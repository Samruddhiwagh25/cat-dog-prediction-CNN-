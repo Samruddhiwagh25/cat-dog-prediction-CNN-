{
 "cells": [
  {
   "cell_type": "code",
   "execution_count": 2,
   "id": "7c3cab27",
   "metadata": {},
   "outputs": [],
   "source": [
    "from tensorflow.keras.models import load_model"
   ]
  },
  {
   "cell_type": "code",
   "execution_count": 3,
   "id": "01a1ddf3",
   "metadata": {},
   "outputs": [],
   "source": [
    "model=load_model('../../Downloads/cat_dog_prediction.h5')"
   ]
  },
  {
   "cell_type": "code",
   "execution_count": 4,
   "id": "f98ba8c2",
   "metadata": {},
   "outputs": [],
   "source": [
    "import cv2\n",
    "def get_animal(path):\n",
    "    A=cv2.imread(path)\n",
    "    A=cv2.resize(A,(224,224))\n",
    "    A=A/255\n",
    "    A=A.reshape(1,224,224,3)\n",
    "    return model.predict_on_batch(A).argmax()"
   ]
  },
  {
   "cell_type": "code",
   "execution_count": 9,
   "id": "9b8550c3",
   "metadata": {},
   "outputs": [
    {
     "name": "stdout",
     "output_type": "stream",
     "text": [
      "../../datasets/Cat_dog/img/c1.jpg\n",
      "../../datasets/Cat_dog/img/c2.jpg\n",
      "../../datasets/Cat_dog/img/c3.jpg\n",
      "../../datasets/Cat_dog/img/d2.jpg\n",
      "../../datasets/Cat_dog/img/d3.jpg\n"
     ]
    }
   ],
   "source": [
    "import os\n",
    "for img in os.listdir('../../datasets/Cat_dog/img/'):\n",
    "    print('../../datasets/Cat_dog/img/'+img)"
   ]
  },
  {
   "cell_type": "code",
   "execution_count": 10,
   "id": "b12ce0bb",
   "metadata": {},
   "outputs": [
    {
     "name": "stdout",
     "output_type": "stream",
     "text": [
      "c1.jpg \t 1\n",
      "c2.jpg \t 0\n",
      "c3.jpg \t 1\n",
      "d2.jpg \t 1\n",
      "d3.jpg \t 1\n"
     ]
    }
   ],
   "source": [
    "for img in os.listdir('../../datasets/Cat_dog/img/'):\n",
    "    y=get_animal('../../datasets/Cat_dog/img/'+img)\n",
    "    print(img,'\\t',y)"
   ]
  },
  {
   "cell_type": "code",
   "execution_count": null,
   "id": "559b8909",
   "metadata": {},
   "outputs": [],
   "source": []
  }
 ],
 "metadata": {
  "kernelspec": {
   "display_name": "Python [conda env:dsml_25_tf]",
   "language": "python",
   "name": "conda-env-dsml_25_tf-py"
  },
  "language_info": {
   "codemirror_mode": {
    "name": "ipython",
    "version": 3
   },
   "file_extension": ".py",
   "mimetype": "text/x-python",
   "name": "python",
   "nbconvert_exporter": "python",
   "pygments_lexer": "ipython3",
   "version": "3.10.13"
  }
 },
 "nbformat": 4,
 "nbformat_minor": 5
}
